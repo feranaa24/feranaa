{
 "cells": [
  {
   "cell_type": "code",
   "execution_count": 3,
   "id": "750b29c3",
   "metadata": {},
   "outputs": [
    {
     "name": "stdout",
     "output_type": "stream",
     "text": [
      "enter first number : 2\n",
      "enter operator(+, -, *, /, %, **) :**\n",
      "enter second number : 3\n",
      "8\n"
     ]
    }
   ],
   "source": [
    "a = input(\"enter first number : \")\n",
    "operator = input(\"enter operator(+, -, *, /, %, **) :\")\n",
    "b = input(\"enter second number : \")\n",
    "a = int(a)\n",
    "b = int(b)\n",
    "if operator == \"+\":\n",
    "    print(a + b)\n",
    "elif operator == \"-\":\n",
    "    print(a - b)\n",
    "elif operator == \"*\":\n",
    "    print(a * b)\n",
    "elif operator == \"/\":\n",
    "    print(a / b)\n",
    "elif operator == \"%\":\n",
    "    print(a % b)\n",
    "elif operator == \"**\":\n",
    "    print(a ** b)\n",
    "else:\n",
    "    print(\"Invalid Operation\")"
   ]
  },
  {
   "cell_type": "code",
   "execution_count": null,
   "id": "495058d2",
   "metadata": {},
   "outputs": [],
   "source": []
  }
 ],
 "metadata": {
  "kernelspec": {
   "display_name": "Python 3 (ipykernel)",
   "language": "python",
   "name": "python3"
  },
  "language_info": {
   "codemirror_mode": {
    "name": "ipython",
    "version": 3
   },
   "file_extension": ".py",
   "mimetype": "text/x-python",
   "name": "python",
   "nbconvert_exporter": "python",
   "pygments_lexer": "ipython3",
   "version": "3.9.7"
  }
 },
 "nbformat": 4,
 "nbformat_minor": 5
}
